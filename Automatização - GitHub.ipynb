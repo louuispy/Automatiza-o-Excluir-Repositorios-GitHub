{
 "cells": [
  {
   "cell_type": "markdown",
   "id": "28446b18-f2fa-4d92-923a-154f447c729d",
   "metadata": {},
   "source": [
    "# Automatização - Deletar repositórios do GitHub"
   ]
  },
  {
   "cell_type": "markdown",
   "id": "3028c852-4886-47de-ba3e-984d8056276a",
   "metadata": {},
   "source": [
    "## Imports"
   ]
  },
  {
   "cell_type": "code",
   "execution_count": 1,
   "id": "7e60f1a1-8aa1-4ed8-b385-f31955958fa3",
   "metadata": {},
   "outputs": [],
   "source": [
    "import pyautogui\n",
    "import pyperclip"
   ]
  },
  {
   "cell_type": "markdown",
   "id": "6a2dc980-3168-4c50-818c-7777bca5cbbe",
   "metadata": {},
   "source": [
    "## Automatização"
   ]
  },
  {
   "cell_type": "code",
   "execution_count": 2,
   "id": "3e8c881d-982a-4d50-bd8f-98482869da07",
   "metadata": {},
   "outputs": [
    {
     "name": "stdin",
     "output_type": "stream",
     "text": [
      "Digite o seu usuário do GitHub:  louuispy\n",
      "Digite o nome do repositório que você deseja excluir:  test\n"
     ]
    }
   ],
   "source": [
    "user = input('Digite o seu usuário do GitHub: ').lower()\n",
    "repository = input('Digite o nome do repositório que você deseja excluir: ')\n",
    "user_repository = str(user+'/'+repository)\n",
    "\n",
    "# Pausa entre os passos\n",
    "pyautogui.PAUSE = 1\n",
    "\n",
    "# Abrir uma nova aba \n",
    "pyautogui.hotkey(\"ctrl\", \"t\")\n",
    "\n",
    "# Escrever a endereço do GitHub e apertar Enter\n",
    "pyperclip.copy(f\"www.github.com/{user_repository}\")\n",
    "pyautogui.hotkey(\"ctrl\", \"v\")\n",
    "pyautogui.hotkey(\"enter\")\n",
    "\n",
    "# Clicar em 'Settings'\n",
    "pyautogui.click(x=838, y=166)\n",
    "\n",
    "# Rolar até o final da página\n",
    "pyautogui.scroll(-4096)\n",
    "\n",
    "# Clicar em 'Delete this repository'\n",
    "pyautogui.click(x=1326, y=900)\n",
    "\n",
    "# Clicar em 'I want to delete this repository'\n",
    "pyautogui.click(x=1004, y=652)\n",
    "\n",
    "# Clicar em 'I have read and understand these effects'\n",
    "pyautogui.hotkey(\"tab\")\n",
    "pyautogui.hotkey(\"enter\")\n",
    "\n",
    "# Excluir o repositório\n",
    "pyautogui.hotkey(\"tab\")\n",
    "pyperclip.copy(user_repository)\n",
    "pyautogui.hotkey(\"ctrl\", \"v\")\n",
    "pyautogui.hotkey(\"enter\")"
   ]
  }
 ],
 "metadata": {
  "kernelspec": {
   "display_name": "Python 3 (ipykernel)",
   "language": "python",
   "name": "python3"
  },
  "language_info": {
   "codemirror_mode": {
    "name": "ipython",
    "version": 3
   },
   "file_extension": ".py",
   "mimetype": "text/x-python",
   "name": "python",
   "nbconvert_exporter": "python",
   "pygments_lexer": "ipython3",
   "version": "3.11.7"
  }
 },
 "nbformat": 4,
 "nbformat_minor": 5
}
